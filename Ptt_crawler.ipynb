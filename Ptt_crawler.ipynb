{
 "cells": [
  {
   "cell_type": "code",
   "execution_count": null,
   "id": "b90c9a8e",
   "metadata": {},
   "outputs": [],
   "source": [
    "for 分頁 in 好多分頁:\n",
    "    for 每個href in 分頁:\n",
    "        解析href 包進去 大list\n",
    "\n",
    "pandas 大list"
   ]
  },
  {
   "cell_type": "code",
   "execution_count": 88,
   "id": "dd9a1e49",
   "metadata": {},
   "outputs": [
    {
     "name": "stdout",
     "output_type": "stream",
     "text": [
      "/bbs/Stock/index5402.html\n",
      "/bbs/Stock/M.1660037309.A.3EC.html\n",
      "/bbs/Stock/M.1660038231.A.323.html\n",
      "/bbs/Stock/M.1660038685.A.D66.html\n",
      "/bbs/Stock/M.1660038713.A.D7D.html\n",
      "/bbs/Stock/M.1660038718.A.2BE.html\n",
      "/bbs/Stock/M.1660038916.A.214.html\n",
      "/bbs/Stock/M.1660040261.A.5E0.html\n",
      "/bbs/Stock/M.1660040435.A.0FC.html\n",
      "/bbs/Stock/M.1642436725.A.5B3.html\n",
      "/bbs/Stock/M.1660024809.A.223.html\n"
     ]
    }
   ],
   "source": [
    "from bs4 import BeautifulSoup as bs\n",
    "import requests\n",
    "import re\n",
    "\n",
    "url = 'https://www.ptt.cc/bbs/Stock/index.html'\n",
    "\n",
    "headers = {'user-agent': 'Mozilla/5.0 (Windows NT 10.0; Win64; x64) AppleWebKit/537.36 (KHTML, like Gecko) Chrome/103.0.0.0 Safari/537.36'}\n",
    "\n",
    "res = requests.get(url, headers = headers)\n",
    "# print (res.text)\n",
    "soup = bs(res.text,'html.parser') \n",
    "\n",
    "\n",
    "# print(Soup.prettify()) #可以讀取的網頁的title\n",
    "\n",
    "print(Soup.find_all('a',class_='btn wide')[1][\"href\"])\n",
    "for i in soup.find_all(\"a\"):\n",
    "    \n",
    "    page_nums = re.findall('(?<=href=\").*\\/M..*(?=\">)', str(i))\n",
    "    if page_nums != []:\n",
    "        print(page_nums[0])\n",
    "    \n",
    "\n"
   ]
  },
  {
   "cell_type": "code",
   "execution_count": 97,
   "id": "c83863b3",
   "metadata": {},
   "outputs": [
    {
     "data": {
      "text/plain": [
       "'5402'"
      ]
     },
     "execution_count": 97,
     "metadata": {},
     "output_type": "execute_result"
    }
   ],
   "source": [
    "str1 =  Soup.find_all('a',class_='btn wide')[1][\"href\"]\n",
    "match_object = re.search(\"\\d+\", str(str1))\n",
    "match_object.group()"
   ]
  },
  {
   "cell_type": "code",
   "execution_count": 98,
   "id": "7c0760ee",
   "metadata": {},
   "outputs": [
    {
     "name": "stdout",
     "output_type": "stream",
     "text": [
      "<class 'str'>\n"
     ]
    }
   ],
   "source": [
    "print(type(match_object.group()))"
   ]
  },
  {
   "cell_type": "code",
   "execution_count": 86,
   "id": "9bcaa7b4",
   "metadata": {},
   "outputs": [
    {
     "name": "stdout",
     "output_type": "stream",
     "text": [
      "371\n"
     ]
    }
   ],
   "source": [
    "from bs4 import BeautifulSoup as bs\n",
    "import requests\n",
    "import re\n",
    "\n",
    "url = 'https://www.ptt.cc/bbs/Stock/M.1660032316.A.EEA.html'\n",
    "\n",
    "headers = {'user-agent': 'Mozilla/5.0 (Windows NT 10.0; Win64; x64) AppleWebKit/537.36 (KHTML, like Gecko) Chrome/103.0.0.0 Safari/537.36'}\n",
    "\n",
    "res = requests.get(url, headers = headers)\n",
    "# print (res.text)\n",
    "soup = bs(res.text,'html.parser') \n",
    "\n",
    "r= re.findall('t', str(soup)) \n",
    "print(len(r), )\n"
   ]
  }
 ],
 "metadata": {
  "kernelspec": {
   "display_name": "Python 3 (ipykernel)",
   "language": "python",
   "name": "python3"
  },
  "language_info": {
   "codemirror_mode": {
    "name": "ipython",
    "version": 3
   },
   "file_extension": ".py",
   "mimetype": "text/x-python",
   "name": "python",
   "nbconvert_exporter": "python",
   "pygments_lexer": "ipython3",
   "version": "3.10.5"
  }
 },
 "nbformat": 4,
 "nbformat_minor": 5
}
