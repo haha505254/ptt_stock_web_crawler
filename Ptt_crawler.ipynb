{
 "cells": [
  {
   "cell_type": "code",
   "execution_count": null,
   "id": "4c8c1025",
   "metadata": {},
   "outputs": [],
   "source": [
    "for 分頁 in 好多分頁:\n",
    "    for 每個href in 分頁:\n",
    "        解析href 包進去 大list\n",
    "\n",
    "pandas 大list"
   ]
  },
  {
   "cell_type": "code",
   "execution_count": 80,
   "id": "dd9a1e49",
   "metadata": {},
   "outputs": [
    {
     "name": "stdout",
     "output_type": "stream",
     "text": [
      "/bbs/Stock/index5402.html\n",
      "/bbs/Stock/M.1660029854.A.00B.html\n",
      "/bbs/Stock/M.1660030346.A.B45.html\n",
      "/bbs/Stock/M.1660030631.A.746.html\n",
      "/bbs/Stock/M.1660031178.A.AB3.html\n",
      "/bbs/Stock/M.1660031366.A.6CE.html\n",
      "/bbs/Stock/M.1660031460.A.24F.html\n",
      "/bbs/Stock/M.1660031919.A.207.html\n",
      "/bbs/Stock/M.1660032316.A.EEA.html\n",
      "/bbs/Stock/M.1660032527.A.BEE.html\n",
      "/bbs/Stock/M.1660032600.A.8D5.html\n",
      "/bbs/Stock/M.1660032955.A.3E3.html\n",
      "/bbs/Stock/M.1660033055.A.B34.html\n",
      "/bbs/Stock/M.1660034175.A.BDB.html\n",
      "/bbs/Stock/M.1660034641.A.496.html\n",
      "/bbs/Stock/M.1660034870.A.A13.html\n",
      "/bbs/Stock/M.1660035207.A.C62.html\n",
      "/bbs/Stock/M.1660035628.A.AC0.html\n",
      "/bbs/Stock/M.1642436725.A.5B3.html\n",
      "/bbs/Stock/M.1660024809.A.223.html\n"
     ]
    }
   ],
   "source": [
    "from bs4 import BeautifulSoup as bs\n",
    "import requests\n",
    "import re\n",
    "\n",
    "url = 'https://www.ptt.cc/bbs/Stock/index.html'\n",
    "\n",
    "headers = {'user-agent': 'Mozilla/5.0 (Windows NT 10.0; Win64; x64) AppleWebKit/537.36 (KHTML, like Gecko) Chrome/103.0.0.0 Safari/537.36'}\n",
    "\n",
    "res = requests.get(url, headers = headers)\n",
    "# print (res.text)\n",
    "soup = bs(res.text,'html.parser') \n",
    "\n",
    "\n",
    "# print(Soup.prettify()) #可以讀取的網頁的title\n",
    "\n",
    "print(Soup.find_all('a',class_='btn wide')[1][\"href\"])\n",
    "for i in soup.find_all(\"a\"):\n",
    "    \n",
    "    page_nums = re.findall('(?<=href=\").*\\/M..*(?=\">)', str(i))\n",
    "    if page_nums != []:\n",
    "        print(page_nums[0])\n",
    "    \n",
    "\n"
   ]
  },
  {
   "cell_type": "code",
   "execution_count": 83,
   "id": "4444eb4f",
   "metadata": {},
   "outputs": [
    {
     "name": "stdout",
     "output_type": "stream",
     "text": [
      "4\n"
     ]
    }
   ],
   "source": [
    "from bs4 import BeautifulSoup as bs\n",
    "import requests\n",
    "import re\n",
    "\n",
    "url = 'https://www.ptt.cc/bbs/Stock/M.1660032316.A.EEA.html'\n",
    "\n",
    "headers = {'user-agent': 'Mozilla/5.0 (Windows NT 10.0; Win64; x64) AppleWebKit/537.36 (KHTML, like Gecko) Chrome/103.0.0.0 Safari/537.36'}\n",
    "\n",
    "res = requests.get(url, headers = headers)\n",
    "# print (res.text)\n",
    "soup = bs(res.text,'html.parser') \n",
    "\n",
    "r= re.findall('rrr', str(soup)) \n",
    "print(len(r), )\n"
   ]
  }
 ],
 "metadata": {
  "kernelspec": {
   "display_name": "Python 3 (ipykernel)",
   "language": "python",
   "name": "python3"
  },
  "language_info": {
   "codemirror_mode": {
    "name": "ipython",
    "version": 3
   },
   "file_extension": ".py",
   "mimetype": "text/x-python",
   "name": "python",
   "nbconvert_exporter": "python",
   "pygments_lexer": "ipython3",
   "version": "3.10.5"
  }
 },
 "nbformat": 4,
 "nbformat_minor": 5
}
